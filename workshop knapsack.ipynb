{
 "cells": [
  {
   "cell_type": "markdown",
   "metadata": {},
   "source": [
    "## Knapsack Problem\n",
    "\n",
    "The *knapsack problem*:  given a set of integers $S = \\{s_1, s_2, \\ldots, s_n\\}$ and a target number $T$, find a subset (i.e., knapsack) of $S$ which adds up exactly to $T$.  \n",
    "\n",
    "For example, if $S = \\{1,2,5, 9, 10\\}$, there is a subset that adds up to $T = 22$, but not to $T = 23$.  Complete the following tasks related to this problem."
   ]
  },
  {
   "cell_type": "markdown",
   "metadata": {},
   "source": [
    "# 1. \n",
    "\n",
    "Find a subset of $S = \\{1,2,5, 9, 10\\}$ with sum $T = 22$.  Explain the process (algorithm) you used mentally to find the subset.  Then apply the same process in an attempt to find a subset with sum $T = 23$.  \n",
    "\n",
    "How do you know there is no such subset?"
   ]
  },
  {
   "source": [
    "First of all, I'm finding the highest value and start additionning with the second highest value. Then, I'm trying to add value until it isn't possible anymore. \n",
    "\n",
    "With this process I realize that it's not possible to arrive to 23 by additionning different values in t he subset. \n"
   ],
   "cell_type": "markdown",
   "metadata": {}
  },
  {
   "cell_type": "markdown",
   "metadata": {
    "collapsed": true
   },
   "source": [
    "# 2.\n",
    "\n",
    "Consider the following possible algorithm for the knapsack problem, written in psuedocode: \n",
    "```python\n",
    "knapsack(S[], T):\n",
    "    K = empty\n",
    "    for each i < size(S)\n",
    "        if sum(K) + S[i] <= T, put S[i] into K\n",
    "    if sum(K) = T, return K, else return False.\n",
    "```\n",
    "**a)** Describe what this algorithm does in English.  \n",
    "\n",
    "**b)** Implement this algorithm in Python and run it on the $S$ and $T$ above.\n",
    "\n",
    "\n",
    "**c)** Prove that this algorithm is NOT correct.  That is, find a counterexample: a set $S$ and number $T$ for which there is a solution, but not one that the algorithm finds.\n",
    "\n",
    "**d)** Verify that this particular $S$ and $T$ does not give the right output when entered to your Python program."
   ]
  },
  {
   "source": [
    "a) Basically, this algo is taking all index in a list S and if the condition is met, it appends the number into an empty list. If the sum of the new list is equal to T we return the list otherwise we return false. \n"
   ],
   "cell_type": "markdown",
   "metadata": {}
  },
  {
   "cell_type": "code",
   "execution_count": 53,
   "metadata": {},
   "outputs": [
    {
     "output_type": "stream",
     "name": "stdout",
     "text": [
      "False\n"
     ]
    }
   ],
   "source": [
    "def knapsack_prob(S, T):\n",
    "    K = []\n",
    "    S = list(S)\n",
    "    for i in range(len(S)):\n",
    "        if sum(K) + S[i] <= T:\n",
    "            K.append(S[i])\n",
    "    if sum(K) == T:\n",
    "        return K\n",
    "    else:\n",
    "        return False\n",
    "\n",
    "S = {1,2,5,9,10}\n",
    "T = 22\n",
    "print(knapsack_prob(S, T))   \n"
   ]
  },
  {
   "source": [
    "c) For example when I enter the S and T from above I end up with a return equalt to False. Why? Because we are adding one number at a time by following the the list order."
   ],
   "cell_type": "markdown",
   "metadata": {}
  },
  {
   "source": [
    "d) Gotta find an answer"
   ],
   "cell_type": "markdown",
   "metadata": {}
  },
  {
   "cell_type": "markdown",
   "metadata": {},
   "source": [
    "# 3. \n",
    "\n",
    "Another try: What if you put the elements in the knapsack from largest to smallest?  Check that this too is not a correct algorithm."
   ]
  },
  {
   "cell_type": "code",
   "execution_count": 52,
   "metadata": {},
   "outputs": [
    {
     "output_type": "stream",
     "name": "stdout",
     "text": [
      "[10, 9, 2, 1]\n"
     ]
    }
   ],
   "source": [
    "def knapsack_largest_to_smallest(S, T):\n",
    "    K = []\n",
    "    S = list(S)\n",
    "    sorted_list = sorted(S)\n",
    "    P = S.sort(reverse = True)\n",
    "    for i in range(len(S)):\n",
    "        if sum(K) + S[i] <= T:\n",
    "            K.append(S[i])\n",
    "    if sum(K) == T:\n",
    "        return K\n",
    "    else:\n",
    "        return False\n",
    "\n",
    "S = {1,2,5,9,10}\n",
    "T = 22\n",
    "print(knapsack_largest_to_smallest(S, T))   "
   ]
  },
  {
   "cell_type": "markdown",
   "metadata": {},
   "source": [
    "# 4.\n",
    "\n",
    "Describe a correct algorithm for the knapsack problem (that we haven't seen in class), both in English and in pseudocode.  Then implement the algorithm in Python.  Explain how you know your algorithm is correct (even if it might not be efficient)."
   ]
  },
  {
   "source": [
    "I found this algo called \"Simulated Annealing\", the idea is to use a combination of a greedy algo with an idea from simulated annealing thrown in.  \n",
    "\n",
    "# Pseudocode \n",
    "```python\n",
    "\n",
    "```                    "
   ],
   "cell_type": "markdown",
   "metadata": {}
  },
  {
   "cell_type": "code",
   "execution_count": null,
   "metadata": {},
   "outputs": [],
   "source": []
  },
  {
   "cell_type": "markdown",
   "metadata": {
    "collapsed": true
   },
   "source": [
    "# 5. Generating correct change\n",
    "\n",
    "Now, we will be making change using the fewest coins. \n",
    "\n",
    "Suppose you are a programmer for a vending machine manufacturer. Your company wants to streamline effort by giving out the fewest possible coins in change for each transaction. Suppose a customer puts in a dollar bill and purchases an item for 37 cents. What is the smallest number of coins you can use to make change? The answer is six coins: two quarters, one dime, and three pennies. \n",
    "\n",
    "How did we arrive at the answer of six coins? We start with the largest coin in our arsenal (a quarter) and use as many of those as possible, then we go to the next lowest coin value and use as many of those as possible. This is the greedy algorithm for change-making.\n",
    "\n",
    "**Question:** Write the greedy algorithm for change making.\n",
    "\n",
    "The input is the amount of change to generate (in pennies) and a list of coin sizes (in pennies)\n",
    "\n",
    "The output is the minimum number of coins to gener\n",
    "\n",
    "```\n",
    "# buys with 1 dollar for 37 pennies\n",
    "# Second argument says we can give quarters, dimes, nickels and pennies\n",
    "make_change(100 - 37, [25, 10, 5, 1])\n",
    "\n",
    "# 2 quarters, one dime, and three pennies\n",
    "output --> 6 # Output would be equivalent to the choices [2, 1, 0, 3]\n",
    "```"
   ]
  },
  {
   "cell_type": "markdown",
   "metadata": {},
   "source": [
    "# 6 Recursive change\n",
    "\n",
    "Write the greedy change making algorithm using recursion"
   ]
  },
  {
   "cell_type": "code",
   "execution_count": 41,
   "metadata": {},
   "outputs": [],
   "source": [
    "\n",
    "\n",
    "\n",
    "\n"
   ]
  },
  {
   "cell_type": "markdown",
   "metadata": {},
   "source": [
    "# 7 (Stretch) Dynamic Programming Change making\n",
    "\n",
    "Write a solution to the change making problem using dynamic programming.\n",
    "\n",
    "**Hint:** Start with making change for one cent and systematically work its way up to the amount of change we require. This guarantees us that at each step of the algorithm we already know the minimum number of coins needed to make change for any smaller amount. Keep a memoized table of results for each step working up to the amount of change you need to generate."
   ]
  },
  {
   "cell_type": "code",
   "execution_count": null,
   "metadata": {},
   "outputs": [],
   "source": []
  },
  {
   "cell_type": "code",
   "execution_count": null,
   "metadata": {},
   "outputs": [],
   "source": []
  }
 ],
 "metadata": {
  "kernelspec": {
   "display_name": "Python 3",
   "language": "python",
   "name": "python3"
  },
  "language_info": {
   "codemirror_mode": {
    "name": "ipython",
    "version": 3
   },
   "file_extension": ".py",
   "mimetype": "text/x-python",
   "name": "python",
   "nbconvert_exporter": "python",
   "pygments_lexer": "ipython3",
   "version": "3.8.3-final"
  }
 },
 "nbformat": 4,
 "nbformat_minor": 1
}
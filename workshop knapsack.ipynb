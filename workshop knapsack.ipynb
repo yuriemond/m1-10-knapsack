{
 "cells": [
  {
   "cell_type": "markdown",
   "metadata": {},
   "source": [
    "## Knapsack Problem\n",
    "\n",
    "The *knapsack problem*:  given a set of integers $S = \\{s_1, s_2, \\ldots, s_n\\}$ and a target number $T$, find a subset (i.e., knapsack) of $S$ which adds up exactly to $T$.  \n",
    "\n",
    "For example, if $S = \\{1,2,5, 9, 10\\}$, there is a subset that adds up to $T = 22$, but not to $T = 23$.  Complete the following tasks related to this problem."
   ]
  },
  {
   "cell_type": "markdown",
   "metadata": {},
   "source": [
    "# 1. \n",
    "\n",
    "Find a subset of $S = \\{1,2,5, 9, 10\\}$ with sum $T = 22$.  Explain the process (algorithm) you used mentally to find the subset.  Then apply the same process in an attempt to find a subset with sum $T = 23$.  \n",
    "\n",
    "How do you know there is no such subset?"
   ]
  },
  {
   "source": [
    "First of all, I'm finding the highest value and start additionning with the second highest value. Then, I'm trying to add value until it isn't possible anymore. \n",
    "\n",
    "With this process I realize that it's not possible to arrive to 23 by additionning different values in t he subset. \n"
   ],
   "cell_type": "markdown",
   "metadata": {}
  },
  {
   "cell_type": "markdown",
   "metadata": {
    "collapsed": true
   },
   "source": [
    "# 2.\n",
    "\n",
    "Consider the following possible algorithm for the knapsack problem, written in psuedocode: \n",
    "```python\n",
    "knapsack(S[], T):\n",
    "    K = empty\n",
    "    for each i < size(S)\n",
    "        if sum(K) + S[i] <= T, put S[i] into K\n",
    "    if sum(K) = T, return K, else return False.\n",
    "```\n",
    "**a)** Describe what this algorithm does in English.  \n",
    "\n",
    "**b)** Implement this algorithm in Python and run it on the $S$ and $T$ above.\n",
    "\n",
    "\n",
    "**c)** Prove that this algorithm is NOT correct.  That is, find a counterexample: a set $S$ and number $T$ for which there is a solution, but not one that the algorithm finds.\n",
    "\n",
    "**d)** Verify that this particular $S$ and $T$ does not give the right output when entered to your Python program."
   ]
  },
  {
   "source": [
    "a) Basically, this algo is taking all index in a list S and if the condition is met, it appends the number into an empty list. If the sum of the new list is equal to T we return the list otherwise we return false. \n"
   ],
   "cell_type": "markdown",
   "metadata": {}
  },
  {
   "cell_type": "code",
   "execution_count": 53,
   "metadata": {},
   "outputs": [
    {
     "output_type": "stream",
     "name": "stdout",
     "text": [
      "False\n"
     ]
    }
   ],
   "source": [
    "def knapsack_prob(S, T):\n",
    "    K = []\n",
    "    S = list(S)\n",
    "    for i in range(len(S)):\n",
    "        if sum(K) + S[i] <= T:\n",
    "            K.append(S[i])\n",
    "    if sum(K) == T:\n",
    "        return K\n",
    "    else:\n",
    "        return False\n",
    "\n",
    "S = {1,2,5,9,10}\n",
    "T = 22\n",
    "print(knapsack_prob(S, T))   \n"
   ]
  },
  {
   "source": [
    "c) For example when I enter the S and T from above I end up with a return equalt to False. Why? Because we are adding one number at a time by following the the list order."
   ],
   "cell_type": "markdown",
   "metadata": {}
  },
  {
   "source": [
    "## d) Gotta find an answer"
   ],
   "cell_type": "markdown",
   "metadata": {}
  },
  {
   "cell_type": "markdown",
   "metadata": {},
   "source": [
    "# 3. \n",
    "\n",
    "Another try: What if you put the elements in the knapsack from largest to smallest?  Check that this too is not a correct algorithm."
   ]
  },
  {
   "cell_type": "code",
   "execution_count": 52,
   "metadata": {},
   "outputs": [
    {
     "output_type": "stream",
     "name": "stdout",
     "text": [
      "[10, 9, 2, 1]\n"
     ]
    }
   ],
   "source": [
    "def knapsack_largest_to_smallest(S, T):\n",
    "    K = []\n",
    "    S = list(S)\n",
    "    sorted_list = sorted(S)\n",
    "    P = S.sort(reverse = True)\n",
    "    for i in range(len(S)):\n",
    "        if sum(K) + S[i] <= T:\n",
    "            K.append(S[i])\n",
    "    if sum(K) == T:\n",
    "        return K\n",
    "    else:\n",
    "        return False\n",
    "\n",
    "S = {1,2,5,9,10}\n",
    "T = 22\n",
    "print(knapsack_largest_to_smallest(S, T))   "
   ]
  },
  {
   "cell_type": "markdown",
   "metadata": {},
   "source": [
    "# 4.\n",
    "\n",
    "Describe a correct algorithm for the knapsack problem (that we haven't seen in class), both in English and in pseudocode.  Then implement the algorithm in Python.  Explain how you know your algorithm is correct (even if it might not be efficient)."
   ]
  },
  {
   "source": [
    "I found this algo called \"Branch and Bound\", it's an algorithm design paradigm for discccrete and combinatorial optimzation problem. It can also be used as a mathematical optimization. \n",
    "\n",
    "# Pseudocode \n",
    "```python\n",
    "branch_and_bound\n",
    "    Sort all items in decreasing order of V/ W so that upper bound \n",
    "    can be computed using Greedy Approach.\n",
    "    Initialize profit, max = 0\n",
    "    Create an empty queue, Q. \n",
    "    Create a dummy node of decision tree and enqueue it to Q. \n",
    "    Profit and weight of dummy node are 0. \n",
    "    Do while (Q is not empty):\n",
    "        Extract an item from Q\n",
    "        Compute profit of next level node. \n",
    "            If the profit is more than max:\n",
    "                Update Max \n",
    "        Compute bound of next level node. \n",
    "        If bound is more than max:\n",
    "            Add next level node to Q. \n",
    "    \n",
    "``` \n",
    "                   "
   ],
   "cell_type": "markdown",
   "metadata": {}
  },
  {
   "cell_type": "code",
   "execution_count": 10,
   "metadata": {},
   "outputs": [],
   "source": [
    "from collections import deque\n",
    "\n",
    "class SimpleQueue(object):\n",
    "    def __init__(self):\n",
    "        self.buffer = deque()\n",
    "    \n",
    "    def push(self, value):\n",
    "        self.buffer.appendleft(value)\n",
    "    \n",
    "    def pop(self):\n",
    "        return self.buffer.pop()\n",
    "\n",
    "    def __len__(self):\n",
    "        return len(self.buffer)\n",
    "\n",
    "class Node(object):\n",
    "    \n",
    "    def __init__(self, level, selected_items, cost, weight, bound):\n",
    "        self.level = level\n",
    "        self.selected_items = selected_items\n",
    "        self.cost = cost \n",
    "        self.weight = weight\n",
    "        self.bound = bound\n",
    "\n",
    "\n",
    "def branche_and_bounds(number, capacity, weight_cost):\n",
    "    \"\"\"\n",
    "    param number: number of existing items\n",
    "    param capacity: the capacity of knapsack \n",
    "    param weight_cost: list of tuples like: [(weight, cost), (weight, cost), ...]\n",
    "    return: tuple like: (best cost, best combination list (contains 1 and 0))\n",
    "    \"\"\"\n",
    "    priority_queue = SimpleQueue()\n",
    "\n",
    "    #sort item in non-increasing order by benfit/cost \n",
    "    ratio = [(index, item[1] / float(item[0])) for index, item in enumerate(weight_cost)]\n",
    "    ratio = sorted(ratios, key=lambda x: x[1], reverse=True)\n",
    "\n",
    "    best_so_far = Node(0, [], 0.0, 0.0, 0.0)\n",
    "    a_node = Node(0, [], 0.0, 0.0, calculate_bound(best_so_far, number, capacity,\n",
    "                  weight_cost, ratios))\n",
    "    priority_queue.push(a_node)\n",
    "\n",
    "    while len(priority_queue) > 0:\n",
    "        curr_node = priority_queue.pop()\n",
    "        if curr_node.bound > best_so_far.cost:\n",
    "            curr_node_index = ratios[curr_node.level][0]\n",
    "            next_item_cost = weight_cost[curr_node_index][1]\n",
    "            next_item_weight = weight_cost[curr_node_index][0]\n",
    "            next_added = Node(\n",
    "                curr_node.level + 1,\n",
    "                curr_node.selected_items + [curr_node_index],\n",
    "                curr_node.cost + next_item_cost,\n",
    "                curr_node.weight + next_item_weight,\n",
    "                curr_node.bound\n",
    "            )\n",
    "\n",
    "            if next_added.weight <= capacity:\n",
    "                if next_added.cost > best_so_far.cost:\n",
    "                    best_so_far = next_added\n",
    "                if next_added.bound > best_so_far.cost:\n",
    "                    priority_queue.push(next_added)\n",
    "\n",
    "\n",
    "            next_not_added = Node(curr_node.level + 1, curr_node.selected_items, curr_node.cost,\n",
    "                                    curr_node.weight, curr_node.bound)\n",
    "            next_not_added.bound = calculate_bound(next_not_added, number, capacity, weight_cost,                                                       ratios)\n",
    "            if next_not_added.bound > best_so_far.cost:\n",
    "                priority_queue.push(next_not_added)\n",
    "    \n",
    "    best_combination = [0] * number\n",
    "    for wc in best_so_far.selected_items:\n",
    "        best_combination[wc] = 1\n",
    "    return int(best_so_far.cost), best_combination\n",
    "\n",
    "def calculate_bound(node, number, capacity, weight_cost, ratios):\n",
    "    if node.weight >= capacity:\n",
    "        return 0\n",
    "    else: \n",
    "        upper_bound = node.cost\n",
    "        total_weight = node.weight\n",
    "        current_level = node.level\n",
    "\n",
    "\n",
    "        while current_level < number:\n",
    "            current_index = ratios[current_level][0]\n",
    "\n",
    "            if total_weight + weight_cost[current_index][0] > capacity:\n",
    "                cost = weight_cost[current_index][1]\n",
    "                weight = weight_cost[current_index][0]\n",
    "                upper_bound += (capacity - total_weight) * cost/weight\n",
    "                break \n",
    "            upper_bound += weight_cost[current_index][1]\n",
    "            total_weight += weight_cost[current_index][0]\n",
    "            current_level += 1\n",
    "    \n",
    "    return upper_bound\n",
    "\n",
    "\n"
   ]
  },
  {
   "cell_type": "markdown",
   "metadata": {
    "collapsed": true
   },
   "source": [
    "# 5. Generating correct change\n",
    "\n",
    "Now, we will be making change using the fewest coins. \n",
    "\n",
    "Suppose you are a programmer for a vending machine manufacturer. Your company wants to streamline effort by giving out the fewest possible coins in change for each transaction. Suppose a customer puts in a dollar bill and purchases an item for 37 cents. What is the smallest number of coins you can use to make change? The answer is six coins: two quarters, one dime, and three pennies. \n",
    "\n",
    "How did we arrive at the answer of six coins? We start with the largest coin in our arsenal (a quarter) and use as many of those as possible, then we go to the next lowest coin value and use as many of those as possible. This is the greedy algorithm for change-making.\n",
    "\n",
    "**Question:** Write the greedy algorithm for change making.\n",
    "\n",
    "The input is the amount of change to generate (in pennies) and a list of coin sizes (in pennies)\n",
    "\n",
    "The output is the minimum number of coins to gener\n",
    "\n",
    "```\n",
    "# buys with 1 dollar for 37 pennies\n",
    "# Second argument says we can give quarters, dimes, nickels and pennies\n",
    "make_change(100 - 37, [25, 10, 5, 1])\n",
    "\n",
    "# 2 quarters, one dime, and three pennies\n",
    "output --> 6 # Output would be equivalent to the choices [2, 1, 0, 3]\n",
    "```"
   ]
  },
  {
   "cell_type": "code",
   "execution_count": 16,
   "metadata": {},
   "outputs": [
    {
     "output_type": "stream",
     "name": "stdout",
     "text": [
      "100 [25, 10, 5, 1] []\n[[25, 4]]\n"
     ]
    }
   ],
   "source": [
    "def greedy_pick(coins, due):\n",
    "    result = []\n",
    "    while (due > 0):\n",
    "        print(due, coins, result)\n",
    "        if (due >= coins[0]):\n",
    "            num = due // coins[0]\n",
    "            due -= (num * coins[0])\n",
    "            result.append([coins[0], num])\n",
    "        coins = coins[1:]\n",
    "    return result\n",
    "\n",
    "print(greedy_pick([25,10,5,1], 100))\n"
   ]
  },
  {
   "cell_type": "markdown",
   "metadata": {},
   "source": [
    "# 6 Recursive change\n",
    "\n",
    "Write the greedy change making algorithm using recursion"
   ]
  },
  {
   "cell_type": "code",
   "execution_count": 41,
   "metadata": {},
   "outputs": [],
   "source": [
    "\n",
    "def pickBest(coins, due):\n",
    "    if due == 0: return []\n",
    "    for c in coins:\n",
    "        if c <= due:\n",
    "            return [c] + pickBest(coins, due-c)\n",
    "\n",
    "\n"
   ]
  },
  {
   "cell_type": "markdown",
   "metadata": {},
   "source": [
    "# 7 (Stretch) Dynamic Programming Change making\n",
    "\n",
    "Write a solution to the change making problem using dynamic programming.\n",
    "\n",
    "**Hint:** Start with making change for one cent and systematically work its way up to the amount of change we require. This guarantees us that at each step of the algorithm we already know the minimum number of coins needed to make change for any smaller amount. Keep a memoized table of results for each step working up to the amount of change you need to generate."
   ]
  },
  {
   "cell_type": "code",
   "execution_count": null,
   "metadata": {},
   "outputs": [],
   "source": []
  },
  {
   "cell_type": "code",
   "execution_count": null,
   "metadata": {},
   "outputs": [],
   "source": []
  }
 ],
 "metadata": {
  "kernelspec": {
   "display_name": "Python 3",
   "language": "python",
   "name": "python3"
  },
  "language_info": {
   "codemirror_mode": {
    "name": "ipython",
    "version": 3
   },
   "file_extension": ".py",
   "mimetype": "text/x-python",
   "name": "python",
   "nbconvert_exporter": "python",
   "pygments_lexer": "ipython3",
   "version": "3.8.3-final"
  }
 },
 "nbformat": 4,
 "nbformat_minor": 1
}